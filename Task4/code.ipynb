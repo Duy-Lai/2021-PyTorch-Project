{
 "cells": [
  {
   "cell_type": "code",
   "execution_count": 1,
   "metadata": {},
   "outputs": [
    {
     "data": {
      "text/plain": [
       "<torch._C.Generator at 0x7f775c12a1f0>"
      ]
     },
     "execution_count": 1,
     "metadata": {},
     "output_type": "execute_result"
    }
   ],
   "source": [
    "import sys\n",
    "sys.path.insert(0, '../')\n",
    "from functions import *\n",
    "\n",
    "# Set random seed for reproducibility\n",
    "torch.manual_seed(42)\n",
    "np.random.seed(42)\n",
    "# Random Seed for dataset generation\n",
    "sampling_seed = 15\n",
    "torch.manual_seed(sampling_seed)"
   ]
  },
  {
   "cell_type": "code",
   "execution_count": null,
   "metadata": {},
   "outputs": [],
   "source": [
    "data = pd.read_table('TrainingData.txt', delimiter=' ', dtype='float', header=None)\n",
    "data = np.array(data.iloc[:,:])\n",
    "datam = pd.read_table('MeasuredData.txt', delimiter=' ', dtype='float', header=None)\n",
    "datam = np.array(datam.iloc[:,:])\n",
    "\n",
    "perc = 0\n",
    "\n",
    "data_norm = np.zeros((data.shape), dtype='float')\n",
    "data_mean = np.zeros((8,2), dtype='float')\n",
    "data_std = np.zeros((8,2), dtype='float')\n",
    "for i in range(data_mean.shape[0]):\n",
    "    k = 0\n",
    "    for j in [0,2]:\n",
    "        data_mean[i,k] = data[128*i:128*(i+1),j].mean()\n",
    "        data_std[i,k] = data[128*i:128*(i+1),j].std()\n",
    "        data_norm[128*i:128*(i+1),j] = (data[128*i:128*(i+1),j] - data_mean[i,k])/data_std[i,k]\n",
    "        k += 1\n",
    "data_norm[:,1] = (data[:,1]-data[:,1].mean())/data[:,1].std()\n",
    "\n",
    "datam_norm = np.zeros((datam.shape), dtype='float')\n",
    "datam_mean = np.zeros(2, dtype='float')\n",
    "datam_std = np.zeros(2, dtype='float')\n",
    "for j in range(datam.shape[1]):\n",
    "    datam_mean[j] = datam[:,j].mean()\n",
    "    datam_std[j] = datam[:,j].std()\n",
    "    datam_norm[:,j] = (datam[:,j] - datam_mean[j])/datam_std[j]"
   ]
  },
  {
   "cell_type": "code",
   "execution_count": null,
   "metadata": {},
   "outputs": [],
   "source": [
    "batch_size = int(data_norm.shape[0]/1)\n",
    "retrain = 128\n",
    "n_epochs_1 = 1800\n",
    "training = DataLoader(torch.utils.data.TensorDataset(torch.tensor(data[:,:2]), torch.tensor(data[:,2])), batch_size=batch_size, shuffle=True)\n",
    "my_network_1 = NeuralNet_Seq(input_dimension=2, output_dimension=1, n_hidden_layers=4, neurons=20)\n",
    "init_xavier(my_network_1, retrain + np.random.randint(-retrain,retrain))\n",
    "optimizer = optim.LBFGS(my_network_1.parameters(), lr=0.1, max_iter=1, max_eval=50000, tolerance_change=1.0 * np.finfo(float).eps)\n",
    "if perc == 0:\n",
    "    history = fit(my_network_1, training, n_epochs_1, optimizer, p=2, reg_param=0.0, verbose=False)\n",
    "else:\n",
    "    history = fit_k(my_network_1, training, torch.tensor(data_val[:2]), torch.tensor(data_val[:,2]), n_epochs_1, optimizer, p=2, reg_param=0.0, verbose=False)"
   ]
  },
  {
   "cell_type": "code",
   "execution_count": null,
   "metadata": {},
   "outputs": [],
   "source": [
    "plt.figure()\n",
    "plt.grid(True, which=\"both\", ls=\":\")\n",
    "if perc == 0:\n",
    "    plt.plot(np.arange(1,n_epochs_1+1), history, label='Training loss')\n",
    "else:\n",
    "    plt.plot(np.arange(1,n_epochs_1+1), history[0], label='Training loss')\n",
    "    plt.plot(np.arange(1,n_epochs_1+1), history[1], label='Validation loss')\n",
    "plt.xscale(\"log\")\n",
    "plt.yscale(\"log\")\n",
    "plt.xlabel(\"epochs\")\n",
    "plt.ylabel(\"loss\")\n",
    "plt.legend()\n",
    "plt.show()"
   ]
  },
  {
   "cell_type": "code",
   "execution_count": null,
   "metadata": {},
   "outputs": [],
   "source": [
    "G = lambda x: sp.linalg.norm(my_network_1(torch.tensor(np.concatenate((datam[:,0].reshape(-1,1),np.ones((datam.shape[0],1))*x),axis=1)).float()).detach().numpy()-datam[:,1].reshape(-1,1))\n",
    "ff = sp.optimize.minimize_scalar(G, bounds=(min(data[:,1]),max(data[:,1])), method='bounded')\n",
    "df = pd.DataFrame(np.array([ff.x]))\n",
    "df.to_csv('Task4.txt', header = False, index = None)"
   ]
  },
  {
   "cell_type": "markdown",
   "metadata": {},
   "source": [
    "uf = np.linspace(min(data[:,1]),max(data[:,1]),500)\n",
    "G = np.zeros(uf.shape, dtype='float')\n",
    "G_min = 1e4\n",
    "u_min = 0\n",
    "\n",
    "for i in range(len(uf)):\n",
    "    pred = my_network_1(torch.tensor(np.concatenate((datam[:,0].reshape(-1,1),np.ones((datam.shape[0],1))*uf[i]),axis=1)).float()).detach().numpy()\n",
    "    G[i] = np.linalg.norm(pred-datam[:,1])\n",
    "    if G[i] < G_min:\n",
    "        G_min = G[i]\n",
    "        u_min = uf[i]\n",
    "\n",
    "plt.figure()\n",
    "#plt.scatter(uf*data[:,1].std()+data[:,1].mean(),G, s=4)\n",
    "plt.scatter(uf,G, s=4)\n",
    "#plt.title('$u_f^* =$' + str(u_min*data[:,1].std()+data[:,1].mean()))\n",
    "plt.title('$u_f^* =$' + str(u_min))\n",
    "plt.show()"
   ]
  },
  {
   "cell_type": "code",
   "execution_count": null,
   "metadata": {},
   "outputs": [],
   "source": [
    "# Verification\n",
    "\n",
    "u = pd.read_table('Task4.txt', dtype='float', header=None)\n",
    "u = np.array(u)[0,0]\n",
    "\n",
    "i = 0\n",
    "plt.figure()\n",
    "while i < data.shape[0]:\n",
    "    plt.scatter(data[i:i+128,0],data[i:i+128,2], s=1, label='$u_f$ = '+str(round(data[i,1],2)))\n",
    "    i+=128\n",
    "plt.scatter(datam[:,0],datam[:,1],s=0.5, label='measured')\n",
    "kk = my_network_1(torch.tensor(np.concatenate((datam[:,0].reshape(-1,1),np.ones((datam.shape[0],1))*u),axis=1)).float()).detach().numpy()\n",
    "#plt.scatter(datam[:,0],kk*datam_std[1]+datam_mean[1],s=1, label='$u_f^*$ = '+str(round(u*data[:,1].std()+data[:,1].mean(),2)))\n",
    "plt.scatter(datam[:,0],kk,s=1, label='$u_f^*$ = '+str(round(u,2)))\n",
    "plt.legend()\n",
    "plt.xlabel('time')\n",
    "plt.ylabel('temperature')\n",
    "plt.show()"
   ]
  }
 ],
 "metadata": {
  "interpreter": {
   "hash": "b202599383e94201a2084d5eea95fed4bd5c9252ec116c823be3a048927dfec6"
  },
  "kernelspec": {
   "display_name": "Python 3.7.4 64-bit ('base': conda)",
   "language": "python",
   "name": "python3"
  },
  "language_info": {
   "codemirror_mode": {
    "name": "ipython",
    "version": 3
   },
   "file_extension": ".py",
   "mimetype": "text/x-python",
   "name": "python",
   "nbconvert_exporter": "python",
   "pygments_lexer": "ipython3",
   "version": "3.9.11"
  },
  "orig_nbformat": 2
 },
 "nbformat": 4,
 "nbformat_minor": 2
}
